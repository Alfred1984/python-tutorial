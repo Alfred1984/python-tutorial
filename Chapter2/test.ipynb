{
 "cells": [
  {
   "cell_type": "code",
   "execution_count": 1,
   "metadata": {},
   "outputs": [
    {
     "name": "stdout",
     "output_type": "stream",
     "text": [
      "-----------这是你第 1 次买彩票，祝好运!\n",
      "请输入你选择的号码: 1\n",
      "你选择的号码是:  1\n",
      "今晚中奖的号码是:  0\n",
      "很遗憾，今晚的大奖被别人抱走了!\n",
      "-----------这是你第 2 次买彩票，祝好运!\n",
      "请输入你选择的号码: 2\n",
      "你选择的号码是:  2\n",
      "今晚中奖的号码是:  7\n",
      "很遗憾，今晚的大奖被别人抱走了!\n",
      "-----------这是你第 3 次买彩票，祝好运!\n",
      "请输入你选择的号码: 3\n",
      "你选择的号码是:  3\n",
      "今晚中奖的号码是:  2\n",
      "很遗憾，今晚的大奖被别人抱走了!\n"
     ]
    }
   ],
   "source": [
    "# Python语法要素例子: 彩票中奖\n",
    "# 从0-9这10个数字中买一个数字，有3次机会\n",
    "import random\n",
    "\n",
    "\n",
    "times = 1\n",
    "balls = [0, 1, 2, 3, 4, 5, 6, 7, 8, 9]\n",
    "\n",
    "while times <= 3:\n",
    "\tprint('-----------这是你第' , str(times), '次买彩票，祝好运!')\n",
    "\tmy_guess = input('请输入你选择的号码: ')\n",
    "\tprint('你选择的号码是: ', my_guess)\n",
    "\t\n",
    "\tlucky_ball = random.choice(balls)\n",
    "\tprint('今晚中奖的号码是: ', str(lucky_ball))\n",
    "\t\n",
    "\tif lucky_ball == int(my_guess):\n",
    "\t\tprint('恭喜你中奖了!')\n",
    "\telse:\n",
    "\t\tprint(\"很遗憾，今晚的大奖被别人抱走了!\")\n",
    "\t\n",
    "\ttimes += 1"
   ]
  }
 ],
 "metadata": {
  "kernelspec": {
   "display_name": "Python 3",
   "language": "python",
   "name": "python3"
  },
  "language_info": {
   "codemirror_mode": {
    "name": "ipython",
    "version": 3
   },
   "file_extension": ".py",
   "mimetype": "text/x-python",
   "name": "python",
   "nbconvert_exporter": "python",
   "pygments_lexer": "ipython3",
   "version": "3.7.4"
  }
 },
 "nbformat": 4,
 "nbformat_minor": 2
}
